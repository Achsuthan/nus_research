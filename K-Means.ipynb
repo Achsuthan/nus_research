{
 "cells": [
  {
   "cell_type": "code",
   "execution_count": 1,
   "metadata": {},
   "outputs": [
    {
     "name": "stderr",
     "output_type": "stream",
     "text": [
      "/anaconda3/lib/python3.7/site-packages/sklearn/model_selection/_split.py:2026: FutureWarning: From version 0.21, test_size will always complement train_size unless both are specified.\n",
      "  FutureWarning)\n"
     ]
    },
    {
     "name": "stdout",
     "output_type": "stream",
     "text": [
      "tn --> true negatives\n",
      "fp --> false positives\n",
      "fn --> false negatives\n",
      "tp --> true positives\n",
      "\n",
      "K-Means\n",
      "Confusion Matrix\n",
      "tn = 22750 fp = 5689\n",
      "fn = 20 tp = 22\n",
      "Scores\n",
      "Accuracy --> 0.7995505775780345\n",
      "Precison --> 0.0038522150236385924\n",
      "Recall --> 0.5238095238095238\n",
      "F1 --> 0.0076481835564053535\n"
     ]
    }
   ],
   "source": [
    "#dataset --> https://www.kaggle.com/mlg-ulb/creditcardfraud/version/3\n",
    "import numpy as np\n",
    "import pandas as pd\n",
    "from sklearn.cluster import KMeans\n",
    "from sklearn.neighbors import KNeighborsClassifier\n",
    "from sklearn.model_selection import train_test_split\n",
    "from sklearn.preprocessing import normalize\n",
    "from sklearn.metrics import confusion_matrix\n",
    "from sklearn.metrics import accuracy_score\n",
    "from sklearn.metrics import precision_score\n",
    "from sklearn.metrics import recall_score\n",
    "from sklearn.metrics import f1_score\n",
    "import matplotlib.pyplot as plt\n",
    "\n",
    "\n",
    "full_data=pd.read_csv(\"creditcard.csv\")\n",
    "full_data=full_data.sample(frac=1)#randomize the whole dataset\n",
    "full_features=full_data.drop([\"Time\",\"Class\"],axis=1)\n",
    "full_labels=pd.DataFrame(full_data[[\"Class\"]])\n",
    "full_features_array=full_features.values\n",
    "full_labels_array=full_labels.values\n",
    "\n",
    "train_features,test_features,train_labels,test_labels=train_test_split(full_features_array,full_labels_array,train_size=0.90)\n",
    "train_features=normalize(train_features)\n",
    "test_features=normalize(test_features)\n",
    "\n",
    "\n",
    "\n",
    "#k_means_classification --> k_means_clustering, confsion_matrix, reassigning\n",
    "kmeans=KMeans(n_clusters=2,random_state=0,algorithm=\"elkan\",max_iter=10000,n_jobs=-1)\n",
    "kmeans.fit(train_features)\n",
    "kmeans_predicted_train_labels=kmeans.predict(train_features)\n",
    "\n",
    "\n",
    "print(\"tn --> true negatives\")\n",
    "print(\"fp --> false positives\")\n",
    "print(\"fn --> false negatives\")\n",
    "print(\"tp --> true positives\")\n",
    "\n",
    "\n",
    "tn,fp,fn,tp=confusion_matrix(train_labels,kmeans_predicted_train_labels).ravel()\n",
    "\n",
    "\n",
    "reassignflag=False\n",
    "if tn+tp<fn+fp:\n",
    "\t# clustering is opposite of original classification\n",
    "\treassignflag=True\n",
    "kmeans_predicted_test_labels=kmeans.predict(test_features)\n",
    "if reassignflag:\n",
    "\tkmeans_predicted_test_labels=1-kmeans_predicted_test_labels\n",
    "\n",
    "    \n",
    "#calculating confusion matrix for kmeans\n",
    "tn,fp,fn,tp=confusion_matrix(test_labels,kmeans_predicted_test_labels).ravel()\n",
    "#scoring kmeans\n",
    "kmeans_accuracy_score=accuracy_score(test_labels,kmeans_predicted_test_labels)\n",
    "kmeans_precison_score=precision_score(test_labels,kmeans_predicted_test_labels)\n",
    "kmeans_recall_score=recall_score(test_labels,kmeans_predicted_test_labels)\n",
    "kmeans_f1_score=f1_score(test_labels,kmeans_predicted_test_labels)\n",
    "#printing\n",
    "print(\"\")\n",
    "print(\"K-Means\")\n",
    "print(\"Confusion Matrix\")\n",
    "print(\"tn =\",tn,\"fp =\",fp)\n",
    "print(\"fn =\",fn,\"tp =\",tp)\n",
    "print(\"Scores\")\n",
    "print(\"Accuracy -->\",kmeans_accuracy_score)\n",
    "print(\"Precison -->\",kmeans_precison_score)\n",
    "print(\"Recall -->\",kmeans_recall_score)\n",
    "print(\"F1 -->\",kmeans_f1_score)\n",
    "\n"
   ]
  },
  {
   "cell_type": "code",
   "execution_count": null,
   "metadata": {},
   "outputs": [],
   "source": []
  }
 ],
 "metadata": {
  "kernelspec": {
   "display_name": "Python 3",
   "language": "python",
   "name": "python3"
  },
  "language_info": {
   "codemirror_mode": {
    "name": "ipython",
    "version": 3
   },
   "file_extension": ".py",
   "mimetype": "text/x-python",
   "name": "python",
   "nbconvert_exporter": "python",
   "pygments_lexer": "ipython3",
   "version": "3.7.1"
  }
 },
 "nbformat": 4,
 "nbformat_minor": 2
}
